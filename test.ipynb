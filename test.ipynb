{
 "cells": [
  {
   "cell_type": "code",
   "execution_count": 6,
   "id": "20f11241-728f-491e-869f-c8b7dd80b8e4",
   "metadata": {},
   "outputs": [
    {
     "name": "stdin",
     "output_type": "stream",
     "text": [
      "Enter your gender (male/female):  male\n",
      "Enter your year of birth:  1999\n",
      "Are you a smoker? (yes/no):  no\n"
     ]
    },
    {
     "name": "stdout",
     "output_type": "stream",
     "text": [
      "Your annual premium is Rs 31500.00\n"
     ]
    }
   ],
   "source": [
    "def calculate_premium(gender, year_of_birth, smoker):\n",
    "    \"\"\"\n",
    "    Calculates health premium based on gender, year of birth, and smoker status.\n",
    "\n",
    "    Args:\n",
    "        gender (str): 'male' or 'female'\n",
    "        year_of_birth (int): Year of birth\n",
    "        smoker (str): 'yes' or 'no'\n",
    "\n",
    "    Returns:\n",
    "        str: Premium amount with discount (if applicable)\n",
    "    \"\"\"\n",
    "    if gender == 'male':\n",
    "        if 1990 <= year_of_birth <= 2000:\n",
    "            premium = 35000\n",
    "            discount = 0.10 if smoker == 'no' else 0\n",
    "        elif 1970 <= year_of_birth < 1990:\n",
    "            premium = 40000\n",
    "            discount = 0.05 if smoker == 'no' else 0\n",
    "    elif gender == 'female':\n",
    "        if 1990 <= year_of_birth <= 2000:\n",
    "            premium = 30000\n",
    "            discount = 0.10 if smoker == 'no' else 0\n",
    "        elif 1970 <= year_of_birth < 1990:\n",
    "            premium = 35000\n",
    "            discount = 0.05 if smoker == 'no' else 0\n",
    "\n",
    "    final_premium = premium * (1 - discount)\n",
    "    return f\"Your annual premium is Rs {final_premium:.2f}\"\n",
    "\n",
    "# Example usage:\n",
    "gender = input(\"Enter your gender (male/female): \")\n",
    "year_of_birth = int(input(\"Enter your year of birth: \"))\n",
    "smoker = input(\"Are you a smoker? (yes/no): \")\n",
    "\n",
    "print(calculate_premium(gender, year_of_birth, smoker))"
   ]
  },
  {
   "cell_type": "code",
   "execution_count": null,
   "id": "4c7d6152-b847-42c2-b40c-2fba39b38229",
   "metadata": {},
   "outputs": [],
   "source": []
  }
 ],
 "metadata": {
  "kernelspec": {
   "display_name": "Python 3 (ipykernel)",
   "language": "python",
   "name": "python3"
  },
  "language_info": {
   "codemirror_mode": {
    "name": "ipython",
    "version": 3
   },
   "file_extension": ".py",
   "mimetype": "text/x-python",
   "name": "python",
   "nbconvert_exporter": "python",
   "pygments_lexer": "ipython3",
   "version": "3.12.4"
  }
 },
 "nbformat": 4,
 "nbformat_minor": 5
}
